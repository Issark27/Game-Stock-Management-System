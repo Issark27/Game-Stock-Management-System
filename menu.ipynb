{
 "cells": [
  {
   "cell_type": "code",
   "execution_count": 27,
   "metadata": {},
   "outputs": [
    {
     "data": {
      "application/vnd.jupyter.widget-view+json": {
       "model_id": "fee9323d49414a8598dbb18cc6e61c19",
       "version_major": 2,
       "version_minor": 0
      },
      "text/plain": [
       "VBox(children=(VBox(children=(Button(description='Search for a Game', style=ButtonStyle(button_color='lightblu…"
      ]
     },
     "metadata": {},
     "output_type": "display_data"
    }
   ],
   "source": [
    "import ipywidgets as widgets\n",
    "from IPython.display import display\n",
    "from gameReturn import Return\n",
    "from gameSearch import search\n",
    "from gameRent import rent\n",
    "from InventoryPruning import stats\n",
    "import feedbackManager as FM\n",
    "import subscriptionManager as SM\n",
    "\n",
    "def search_clicked(x):\n",
    "    if (search_input_widget.value != \"\"):\n",
    "        with search_output:\n",
    "            search_output.clear_output(wait=True)\n",
    "            search_term = search_input_widget.value\n",
    "            search(search_term)\n",
    "        \n",
    "def rent_clicked(x):\n",
    "    if (CID_input_widget.value != \"\" and GID_input_widget.value != \"\" and DATE_input_widget.value != \"\"):\n",
    "        with rent_output:\n",
    "            rent_output.clear_output(wait=True)\n",
    "            CID = CID_input_widget.value\n",
    "            GID = GID_input_widget.value\n",
    "            DATE = DATE_input_widget.value\n",
    "            rent(CID, GID, DATE)\n",
    "        \n",
    "def return_clicked(x):\n",
    "    if (GID_return_input_widget.value != \"\" and Comment_input_widget.value != \"\" and DATE_return_input_widget.value != \"\"):\n",
    "        with return_output:\n",
    "            return_output.clear_output(wait=True)\n",
    "            GID_return = GID_return_input_widget.value\n",
    "            Review = star_buttons.value\n",
    "            Comment = Comment_input_widget.value\n",
    "            DATE_return = DATE_return_input_widget.value\n",
    "            Return(GID_return, Review, Comment, DATE_return)\n",
    "        \n",
    "def pruning_clicked(x):\n",
    "    with pruning_output:\n",
    "        pruning_output.clear_output(wait=True)\n",
    "        stats()\n",
    "\n",
    "search_button = widgets.Button(description = \"Search for a Game\")\n",
    "search_button.style.button_color = \"lightblue\"\n",
    "search_button.style.font_weight = \"bold\"\n",
    "rent_button = widgets.Button(description = \"Rent a Game\")\n",
    "rent_button.style.button_color = \"lightblue\"\n",
    "rent_button.style.font_weight = \"bold\"\n",
    "rent_button.layout.margin = \"15px 0 0 0\"\n",
    "return_button = widgets.Button(description = \"Return a Game\")\n",
    "return_button.style.button_color = \"lightblue\"\n",
    "return_button.style.font_weight = \"bold\"\n",
    "return_button.layout.margin = \"15px 0 0 0\"\n",
    "pruning_button = widgets.Button(description = \"Inventory Pruning Suggestions\")\n",
    "pruning_button.style.button_color = \"salmon\"\n",
    "pruning_button.style.font_weight = \"bold\"\n",
    "pruning_button.layout.width = \"225px\"\n",
    "pruning_button.layout.margin = \"15px 0 0 0\"\n",
    "\n",
    "search_input_widget = widgets.Text()\n",
    "CID_input_widget = widgets.Text()\n",
    "GID_input_widget = widgets.Text()\n",
    "DATE_input_widget = widgets.Text(placeholder = \"dd/mm/yyyy\")\n",
    "GID_return_input_widget = widgets.Text()\n",
    "Review_input_widget = widgets.Text()\n",
    "Comment_input_widget = widgets.Text()\n",
    "DATE_return_input_widget = widgets.Text(placeholder = \"dd/mm/yyyy\")\n",
    "\n",
    "star_buttons = widgets.ToggleButtons(options = [\"1\", \"2\", \"3\", \"4\", \"5\"], button_style = \"warning\", style = {\"button_width\": \"50px\"})\n",
    "\n",
    "search_output = widgets.Output(layout = {\"border\": \"1px solid black\", \"margin\": \"10px\"})\n",
    "pruning_output = widgets.Output(layout={\"border\": \"1px solid black\", \"margin\": \"10px\"})\n",
    "rent_output = widgets.Output(layout={\"border\": \"1px solid black\", \"margin\": \"10px\"})\n",
    "return_output = widgets.Output(layout={\"border\": \"1px solid black\", \"margin\": \"10px\"})\n",
    "\n",
    "search_button.on_click(search_clicked)\n",
    "rent_button.on_click(rent_clicked)\n",
    "pruning_button.on_click(pruning_clicked)\n",
    "return_button.on_click(return_clicked)\n",
    "\n",
    "search_input_box = widgets.VBox([widgets.Label(\"Search Term:\"), search_input_widget])\n",
    "CID_input_box = widgets.HBox([widgets.Label(\"Customer ID:\"), CID_input_widget])\n",
    "GID_input_box = widgets.HBox([widgets.Label(\"Game ID:\"), GID_input_widget])\n",
    "DATE_input_box = widgets.HBox([widgets.Label(\"Current Date:\"), DATE_input_widget])\n",
    "GID_return_input_box = widgets.HBox([widgets.Label(\"Game ID:\"), GID_return_input_widget])\n",
    "Review_input_box = widgets.HBox([widgets.Label(\"Game Rating:\"), star_buttons])\n",
    "Comment_input_box = widgets.HBox([widgets.Label(\"Any comments on the game:\"), Comment_input_widget])\n",
    "DATE_return_input_box = widgets.HBox([widgets.Label(\"Current Date:\"), DATE_return_input_widget])\n",
    "\n",
    "\n",
    "buttons_box = widgets.VBox([search_button, search_input_box, search_output, rent_button, CID_input_box, GID_input_box, DATE_input_box, rent_output, return_button, GID_return_input_box, Review_input_box, Comment_input_box, DATE_return_input_box, return_output, pruning_button, pruning_output])\n",
    "display(widgets.VBox([buttons_box]))"
   ]
  }
 ],
 "metadata": {
  "kernelspec": {
   "display_name": "Python 3",
   "language": "python",
   "name": "python3"
  },
  "language_info": {
   "codemirror_mode": {
    "name": "ipython",
    "version": 3
   },
   "file_extension": ".py",
   "mimetype": "text/x-python",
   "name": "python",
   "nbconvert_exporter": "python",
   "pygments_lexer": "ipython3",
   "version": "3.11.1"
  }
 },
 "nbformat": 4,
 "nbformat_minor": 2
}
